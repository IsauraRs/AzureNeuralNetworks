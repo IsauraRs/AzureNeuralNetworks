{
  "nbformat": 4,
  "nbformat_minor": 0,
  "metadata": {
    "colab": {
      "name": "AzureIA2.ipynb",
      "provenance": [],
      "collapsed_sections": [],
      "authorship_tag": "ABX9TyMIe7+dCPGRT5lDqV1r68IS",
      "include_colab_link": true
    },
    "kernelspec": {
      "name": "python3",
      "display_name": "Python 3"
    },
    "language_info": {
      "name": "python"
    }
  },
  "cells": [
    {
      "cell_type": "markdown",
      "metadata": {
        "id": "view-in-github",
        "colab_type": "text"
      },
      "source": [
        "<a href=\"https://colab.research.google.com/github/IsauraRs/AzureNeuralNetworks/blob/master/AzureIA2.ipynb\" target=\"_parent\"><img src=\"https://colab.research.google.com/assets/colab-badge.svg\" alt=\"Open In Colab\"/></a>"
      ]
    },
    {
      "cell_type": "markdown",
      "metadata": {
        "id": "qA2LAAc1aDtG"
      },
      "source": [
        "#Redes neuronales profundas con tensorflow"
      ]
    },
    {
      "cell_type": "code",
      "metadata": {
        "colab": {
          "base_uri": "https://localhost:8080/"
        },
        "id": "g8BdzslHWk7P",
        "outputId": "db5c9d4d-a327-4c5c-d4e9-a3a9804586df"
      },
      "source": [
        "import tensorflow as tf\n",
        "print(tf.__version__)"
      ],
      "execution_count": null,
      "outputs": [
        {
          "output_type": "stream",
          "text": [
            "2.5.0\n"
          ],
          "name": "stdout"
        }
      ]
    },
    {
      "cell_type": "code",
      "metadata": {
        "id": "jt5qmdNFaLCr"
      },
      "source": [
        "fashion_mnist = tf.keras.datasets.fashion_mnist"
      ],
      "execution_count": null,
      "outputs": []
    },
    {
      "cell_type": "markdown",
      "metadata": {
        "id": "GfbF6OZ1aU21"
      },
      "source": [
        "load_data da dos conjuntos con valores de entrenamiento y prueba para los gráficos de prendas y sus etiquetas ."
      ]
    },
    {
      "cell_type": "code",
      "metadata": {
        "colab": {
          "base_uri": "https://localhost:8080/"
        },
        "id": "bR3MlpGmaRNK",
        "outputId": "3b7f333b-269f-44fb-e849-1419a481f75a"
      },
      "source": [
        "(training_images, training_labels) , (test_images, test_labels) = fashion_mnist.load_data()"
      ],
      "execution_count": null,
      "outputs": [
        {
          "output_type": "stream",
          "text": [
            "Downloading data from https://storage.googleapis.com/tensorflow/tf-keras-datasets/train-labels-idx1-ubyte.gz\n",
            "32768/29515 [=================================] - 0s 0us/step\n",
            "Downloading data from https://storage.googleapis.com/tensorflow/tf-keras-datasets/train-images-idx3-ubyte.gz\n",
            "26427392/26421880 [==============================] - 0s 0us/step\n",
            "Downloading data from https://storage.googleapis.com/tensorflow/tf-keras-datasets/t10k-labels-idx1-ubyte.gz\n",
            "8192/5148 [===============================================] - 0s 0us/step\n",
            "Downloading data from https://storage.googleapis.com/tensorflow/tf-keras-datasets/t10k-images-idx3-ubyte.gz\n",
            "4423680/4422102 [==============================] - 0s 0us/step\n"
          ],
          "name": "stdout"
        }
      ]
    },
    {
      "cell_type": "markdown",
      "metadata": {
        "id": "zJbi8n9Ob2aI"
      },
      "source": [
        "Imprimiendo una imagen y etiqueta del conjunto de entrenamiento."
      ]
    },
    {
      "cell_type": "code",
      "metadata": {
        "colab": {
          "base_uri": "https://localhost:8080/",
          "height": 755
        },
        "id": "uzRIq8-AbIl9",
        "outputId": "019e1d90-1e2c-4f27-d9b4-9d5b1a20f818"
      },
      "source": [
        "import numpy as np\n",
        "import matplotlib.pyplot as plt\n",
        "\n",
        "np.set_printoptions(linewidth = 200)\n",
        "\n",
        "#Índice de la imagen que se mostrará\n",
        "img_index = 0\n",
        "\n",
        "plt.imshow(training_images[img_index] , cmap = 'gray')\n",
        "plt.axis(False)\n",
        "\n",
        "print(\"Label: \", training_labels[img_index])\n",
        "print(\"Matrix: \", training_images[img_index])"
      ],
      "execution_count": null,
      "outputs": [
        {
          "output_type": "stream",
          "text": [
            "Label:  9\n",
            "Matrix:  [[  0   0   0   0   0   0   0   0   0   0   0   0   0   0   0   0   0   0   0   0   0   0   0   0   0   0   0   0]\n",
            " [  0   0   0   0   0   0   0   0   0   0   0   0   0   0   0   0   0   0   0   0   0   0   0   0   0   0   0   0]\n",
            " [  0   0   0   0   0   0   0   0   0   0   0   0   0   0   0   0   0   0   0   0   0   0   0   0   0   0   0   0]\n",
            " [  0   0   0   0   0   0   0   0   0   0   0   0   1   0   0  13  73   0   0   1   4   0   0   0   0   1   1   0]\n",
            " [  0   0   0   0   0   0   0   0   0   0   0   0   3   0  36 136 127  62  54   0   0   0   1   3   4   0   0   3]\n",
            " [  0   0   0   0   0   0   0   0   0   0   0   0   6   0 102 204 176 134 144 123  23   0   0   0   0  12  10   0]\n",
            " [  0   0   0   0   0   0   0   0   0   0   0   0   0   0 155 236 207 178 107 156 161 109  64  23  77 130  72  15]\n",
            " [  0   0   0   0   0   0   0   0   0   0   0   1   0  69 207 223 218 216 216 163 127 121 122 146 141  88 172  66]\n",
            " [  0   0   0   0   0   0   0   0   0   1   1   1   0 200 232 232 233 229 223 223 215 213 164 127 123 196 229   0]\n",
            " [  0   0   0   0   0   0   0   0   0   0   0   0   0 183 225 216 223 228 235 227 224 222 224 221 223 245 173   0]\n",
            " [  0   0   0   0   0   0   0   0   0   0   0   0   0 193 228 218 213 198 180 212 210 211 213 223 220 243 202   0]\n",
            " [  0   0   0   0   0   0   0   0   0   1   3   0  12 219 220 212 218 192 169 227 208 218 224 212 226 197 209  52]\n",
            " [  0   0   0   0   0   0   0   0   0   0   6   0  99 244 222 220 218 203 198 221 215 213 222 220 245 119 167  56]\n",
            " [  0   0   0   0   0   0   0   0   0   4   0   0  55 236 228 230 228 240 232 213 218 223 234 217 217 209  92   0]\n",
            " [  0   0   1   4   6   7   2   0   0   0   0   0 237 226 217 223 222 219 222 221 216 223 229 215 218 255  77   0]\n",
            " [  0   3   0   0   0   0   0   0   0  62 145 204 228 207 213 221 218 208 211 218 224 223 219 215 224 244 159   0]\n",
            " [  0   0   0   0  18  44  82 107 189 228 220 222 217 226 200 205 211 230 224 234 176 188 250 248 233 238 215   0]\n",
            " [  0  57 187 208 224 221 224 208 204 214 208 209 200 159 245 193 206 223 255 255 221 234 221 211 220 232 246   0]\n",
            " [  3 202 228 224 221 211 211 214 205 205 205 220 240  80 150 255 229 221 188 154 191 210 204 209 222 228 225   0]\n",
            " [ 98 233 198 210 222 229 229 234 249 220 194 215 217 241  65  73 106 117 168 219 221 215 217 223 223 224 229  29]\n",
            " [ 75 204 212 204 193 205 211 225 216 185 197 206 198 213 240 195 227 245 239 223 218 212 209 222 220 221 230  67]\n",
            " [ 48 203 183 194 213 197 185 190 194 192 202 214 219 221 220 236 225 216 199 206 186 181 177 172 181 205 206 115]\n",
            " [  0 122 219 193 179 171 183 196 204 210 213 207 211 210 200 196 194 191 195 191 198 192 176 156 167 177 210  92]\n",
            " [  0   0  74 189 212 191 175 172 175 181 185 188 189 188 193 198 204 209 210 210 211 188 188 194 192 216 170   0]\n",
            " [  2   0   0   0  66 200 222 237 239 242 246 243 244 221 220 193 191 179 182 182 181 176 166 168  99  58   0   0]\n",
            " [  0   0   0   0   0   0   0  40  61  44  72  41  35   0   0   0   0   0   0   0   0   0   0   0   0   0   0   0]\n",
            " [  0   0   0   0   0   0   0   0   0   0   0   0   0   0   0   0   0   0   0   0   0   0   0   0   0   0   0   0]\n",
            " [  0   0   0   0   0   0   0   0   0   0   0   0   0   0   0   0   0   0   0   0   0   0   0   0   0   0   0   0]]\n"
          ],
          "name": "stdout"
        },
        {
          "output_type": "display_data",
          "data": {
            "image/png": "[encoded data removed]",
            "text/plain": [
              "<Figure size 432x288 with 1 Axes>"
            ]
          },
          "metadata": {
            "tags": [],
            "needs_background": "light"
          }
        }
      ]
    },
    {
      "cell_type": "markdown",
      "metadata": {
        "id": "zUY8AufycKFI"
      },
      "source": [
        "Todos los datos con etiqueta 9 serán \"Ankle boots\"\n"
      ]
    },
    {
      "cell_type": "code",
      "metadata": {
        "colab": {
          "base_uri": "https://localhost:8080/",
          "height": 755
        },
        "id": "Qt5iwkjTb9PP",
        "outputId": "36cc68b1-1023-48a6-bac6-9a0254a50229"
      },
      "source": [
        "np.set_printoptions(linewidth = 200)\n",
        "\n",
        "#Índice de la imagen que se mostrará\n",
        "img_index = 200\n",
        "\n",
        "plt.imshow(training_images[img_index] , cmap = 'gray')\n",
        "plt.axis(False)\n",
        "\n",
        "print(\"Label: \", training_labels[img_index])\n",
        "print(\"Matrix: \", training_images[img_index])"
      ],
      "execution_count": null,
      "outputs": [
        {
          "output_type": "stream",
          "text": [
            "Label:  8\n",
            "Matrix:  [[  0   0   0   0   0   0   0   0   0   0   0   0   0  82 122  37   0   5   0   0   0   0   0   0   0   0   0   0]\n",
            " [  0   0   0   0   0   0   0   0   0   0   2   0  38 100  28 121   0   1   0   0   0   0   0   0   0   0   0   0]\n",
            " [  0   0   0   0   0   0   0   0   0   0   5   0  86  43   0 136  15   0   2   0   0   0   0   0   0   0   0   0]\n",
            " [  0   0   0   0   0   0   0   0   0   0   2   0 104  30   0 102  40   0   3   0   0   0   0   0   0   0   0   0]\n",
            " [  0   0   0   0   0   0   0   0   0   3   0   0 111   2   0  73  81   0   4   0   0   0   0   0   0   0   0   0]\n",
            " [  0   0   0   0   0   0   0   0   0   2   0  17  87   0   0  45  81   0   4   0   0   0   0   0   0   0   0   0]\n",
            " [  0   0   0   0   0   0   0   0   0   4   0  54  90   0   0  24  92   0   4   0   0   0   0   0   0   0   0   0]\n",
            " [  0   0   0   0   0   0   0   0   0   3   0  76  30   0   0   0  93   0   0   0   0   0   0   0   0   0   0   0]\n",
            " [  0   0   0   0   0   0   0   0   0   1   0  74   0   0   0   0  86   0   0   1   0   0   0   0   0   0   0   0]\n",
            " [  0   0   0   0   0   0   0   0   0   0   0 109   0   0   1   0  86  11   0   2   0   0   0   0   0   0   0   0]\n",
            " [  0   0   0   0   0   0   0   0   2   0  31  79   0   2   2   0 115  38   0   4   0   0   0   0   0   0   0   0]\n",
            " [  0   0   0   0   0   0   0   0   5   0  66  90   0   1   1   0 136  58   0   5   0   0   0   0   0   0   0   0]\n",
            " [  0   0   0   0   0   0   0   0   5   0  82 136   0   3   4   0 195  76   0   5   0   0   0   0   0   0   0   0]\n",
            " [  0   0   0   0   0   0   0   0   0   0  95 166   0   0   0   0 144  80   0   0   0   0   0   0   0   0   0   0]\n",
            " [  0   0   0   0   0   0   0   0   0  45 145 191  20  65  68  40 148 159  79  60   0   0   0   0   0   0   0   0]\n",
            " [  0   0   0   0   0   0   0   0  70 228 173 214 208 211 215 216 204 204 211 164   3   0   0   0   0   0   0   0]\n",
            " [  0   0   0   0   0   0   0   0  57 176 167 205 199 190 193 195 193 196 183 182   0   0   0   0   0   0   0   0]\n",
            " [  0   0   0   0   0   0   0   0  80 200 186 219 204 191 204 210 204 205 189 184   0   0   0   0   0   0   0   0]\n",
            " [  0   0   0   0   0   0   0   0 145 170 173 188 202 202 219 211 204 212 198 220   0   0   0   0   0   0   0   0]\n",
            " [  0   0   0   0   0   0   0   0 174 174 188 192 211 210 215 217 214 219 192 248   0   0   0   0   0   0   0   0]\n",
            " [  0   0   0   0   0   0   0   0 180 190 175 158 209 209 211 217 215 214 190 249   4   0   0   0   0   0   0   0]\n",
            " [  0   0   0   0   0   0   0   0 184 188 180 210 209 205 218 216 212 208 195 253  16   0   0   0   0   0   0   0]\n",
            " [  0   0   0   0   0   0   0   0 183 201 172 203 206 208 216 215 213 213 196 255  26   0   0   0   0   0   0   0]\n",
            " [  0   0   0   0   0   0   0   0 180 215 184 199 214 219 227 218 219 223 200 228  40   0   0   0   0   0   0   0]\n",
            " [  0   0   0   0   0   0   0   0 187 218 185 206 216 215 221 229 219 218 200 232  53   0   0   0   0   0   0   0]\n",
            " [  0   0   0   0   0   0   0   0 184 207 188 198 217 165 146 214 214 214 200 231  57   0   0   0   0   0   0   0]\n",
            " [  0   0   0   0   0   0   0   0 211 252 229 240 244 252 253 253 250 231 227 245  67   0   0   0   0   0   0   0]\n",
            " [  0   0   0   0   0   0   0   0 109 171 157 163 161 167 160 149 142 145 145 149  11   0   0   0   0   0   0   0]]\n"
          ],
          "name": "stdout"
        },
        {
          "output_type": "display_data",
          "data": {
            "image/png": "[encoded data removed]",
            "text/plain": [
              "<Figure size 432x288 with 1 Axes>"
            ]
          },
          "metadata": {
            "tags": [],
            "needs_background": "light"
          }
        }
      ]
    },
    {
      "cell_type": "markdown",
      "metadata": {
        "id": "LrL-CZetcvmr"
      },
      "source": [
        "El estándar va de 0 a 255.\n",
        "\n",
        "## ]Normalización: se divide todo entre el valor máximo para obtener un rango entre 0 y 1, en este caso se divide entre 255."
      ]
    },
    {
      "cell_type": "code",
      "metadata": {
        "id": "ew0w8WLLceS8"
      },
      "source": [
        "training_images = training_images / 255.0\n",
        "test_images = test_images / 255.0"
      ],
      "execution_count": null,
      "outputs": []
    },
    {
      "cell_type": "code",
      "metadata": {
        "colab": {
          "base_uri": "https://localhost:8080/",
          "height": 1000
        },
        "id": "HoCM69EndDTW",
        "outputId": "7a135c11-ab6e-435d-a44d-c088f639dd9b"
      },
      "source": [
        "np.set_printoptions(linewidth = 200)\n",
        "\n",
        "#Índice de la imagen que se mostrará\n",
        "img_index = 3000\n",
        "\n",
        "plt.imshow(training_images[img_index] , cmap = 'gray')\n",
        "plt.axis(False)\n",
        "\n",
        "print(\"Label: \", training_labels[img_index])\n",
        "print(\"Matrix: \", training_images[img_index])"
      ],
      "execution_count": null,
      "outputs": [
        {
          "output_type": "stream",
          "text": [
            "Label:  6\n",
            "Matrix:  [[0.         0.         0.         0.         0.         0.         0.         0.         0.00392157 0.00392157 0.         0.         0.47058824 0.51372549 0.35686275 0.57647059 0.11764706\n",
            "  0.         0.         0.00392157 0.00392157 0.         0.         0.         0.         0.         0.         0.        ]\n",
            " [0.         0.         0.         0.         0.         0.         0.00392157 0.01176471 0.         0.         0.         0.         0.98431373 0.78039216 0.6745098  0.76470588 0.59607843\n",
            "  0.         0.         0.         0.         0.01176471 0.00392157 0.         0.         0.         0.         0.        ]\n",
            " [0.         0.         0.         0.         0.         0.         0.         0.         0.         0.16862745 0.48627451 0.75686275 0.65098039 0.9372549  1.         0.84705882 0.6745098\n",
            "  0.89411765 0.49411765 0.23921569 0.         0.         0.         0.         0.         0.         0.         0.        ]\n",
            " [0.         0.         0.         0.         0.         0.         0.         0.37647059 0.65490196 0.60784314 0.62352941 0.67058824 0.69803922 0.82745098 0.84313725 0.82352941 0.76862745\n",
            "  0.74117647 0.61960784 0.64313725 0.62352941 0.42352941 0.         0.         0.         0.         0.         0.        ]\n",
            " [0.         0.         0.         0.         0.         0.         0.3254902  0.61568627 0.51372549 0.45882353 0.47058824 0.58039216 0.58039216 0.56862745 0.69803922 0.62352941 0.68235294\n",
            "  0.62745098 0.48235294 0.51764706 0.55686275 0.6745098  0.14901961 0.         0.         0.         0.         0.        ]\n",
            " [0.         0.         0.         0.         0.         0.         0.62352941 0.50196078 0.4627451  0.47058824 0.47843137 0.43921569 0.36470588 0.48627451 0.63137255 0.42745098 0.50196078\n",
            "  0.50196078 0.50588235 0.57254902 0.54117647 0.65490196 0.47843137 0.         0.         0.         0.         0.        ]\n",
            " [0.         0.         0.         0.         0.         0.         0.67058824 0.52941176 0.47058824 0.44705882 0.4627451  0.46666667 0.41960784 0.49019608 0.48235294 0.45882353 0.48627451\n",
            "  0.48627451 0.46666667 0.56862745 0.57647059 0.65098039 0.58039216 0.         0.         0.         0.         0.        ]\n",
            " [0.         0.         0.         0.         0.         0.01568627 0.67058824 0.54117647 0.49411765 0.47058824 0.45882353 0.4627451  0.4        0.47843137 0.56862745 0.43529412 0.47058824\n",
            "  0.47843137 0.47058824 0.59607843 0.60392157 0.60784314 0.66666667 0.         0.         0.         0.         0.        ]\n",
            " [0.         0.         0.         0.         0.         0.12156863 0.66666667 0.50588235 0.54117647 0.49019608 0.44313725 0.41568627 0.40392157 0.4627451  0.5372549  0.42352941 0.52941176\n",
            "  0.50980392 0.61960784 0.71372549 0.54117647 0.56078431 0.72941176 0.         0.         0.         0.         0.        ]\n",
            " [0.         0.         0.         0.         0.         0.22745098 0.63921569 0.44705882 0.5372549  0.56078431 0.46666667 0.40392157 0.39215686 0.42745098 0.4627451  0.42745098 0.50588235\n",
            "  0.5254902  0.6745098  0.70980392 0.51372549 0.53333333 0.74509804 0.         0.         0.         0.         0.        ]\n",
            " [0.         0.         0.         0.         0.         0.29803922 0.62745098 0.44313725 0.55294118 0.58039216 0.50196078 0.43529412 0.39607843 0.45490196 0.5372549  0.43529412 0.51372549\n",
            "  0.55686275 0.65490196 0.71764706 0.53333333 0.47058824 0.72941176 0.04705882 0.         0.         0.         0.        ]\n",
            " [0.         0.         0.         0.         0.         0.39215686 0.58039216 0.42352941 0.57647059 0.57647059 0.5254902  0.47058824 0.41176471 0.45490196 0.51372549 0.45490196 0.53333333\n",
            "  0.5372549  0.64705882 0.75294118 0.5372549  0.44313725 0.73333333 0.11764706 0.         0.         0.         0.        ]\n",
            " [0.         0.         0.         0.         0.         0.44705882 0.56078431 0.42352941 0.61960784 0.57647059 0.50980392 0.49019608 0.41568627 0.44705882 0.47843137 0.46666667 0.50588235\n",
            "  0.5254902  0.62745098 0.76862745 0.53333333 0.42745098 0.71372549 0.2        0.         0.         0.         0.        ]\n",
            " [0.         0.         0.         0.         0.         0.47058824 0.54901961 0.45882353 0.59215686 0.58039216 0.51372549 0.48627451 0.42745098 0.47058824 0.56078431 0.47058824 0.50980392\n",
            "  0.50196078 0.62352941 0.7372549  0.43529412 0.42352941 0.69803922 0.25882353 0.         0.         0.         0.        ]\n",
            " [0.         0.         0.         0.         0.         0.49019608 0.50588235 0.50196078 0.43921569 0.56862745 0.54901961 0.47843137 0.44313725 0.4627451  0.5254902  0.45882353 0.51764706\n",
            "  0.50196078 0.65098039 0.61568627 0.35686275 0.47058824 0.66666667 0.29019608 0.         0.         0.         0.        ]\n",
            " [0.         0.         0.         0.         0.         0.49411765 0.48235294 0.54117647 0.29019608 0.54901961 0.56078431 0.48627451 0.43529412 0.43921569 0.49411765 0.47058824 0.50980392\n",
            "  0.50588235 0.68627451 0.47058824 0.34509804 0.50196078 0.64313725 0.35686275 0.         0.         0.         0.        ]\n",
            " [0.         0.         0.         0.         0.         0.48627451 0.48235294 0.61568627 0.17647059 0.56862745 0.56078431 0.48627451 0.44313725 0.46666667 0.58039216 0.47843137 0.51372549\n",
            "  0.50588235 0.71764706 0.35294118 0.28627451 0.5372549  0.60784314 0.38823529 0.         0.         0.         0.        ]\n",
            " [0.         0.         0.         0.         0.         0.4627451  0.47843137 0.65490196 0.         0.56078431 0.58431373 0.47843137 0.43921569 0.4627451  0.5372549  0.45490196 0.51764706\n",
            "  0.49411765 0.71764706 0.28627451 0.19607843 0.59607843 0.57647059 0.39607843 0.         0.         0.         0.        ]\n",
            " [0.         0.         0.         0.         0.         0.43529412 0.50196078 0.64313725 0.         0.55686275 0.59215686 0.47843137 0.43529412 0.45882353 0.51764706 0.47058824 0.53333333\n",
            "  0.49019608 0.71372549 0.35294118 0.07058824 0.64313725 0.56862745 0.41960784 0.         0.         0.         0.        ]\n",
            " [0.         0.         0.         0.         0.         0.42745098 0.51764706 0.61960784 0.         0.57254902 0.58039216 0.47058824 0.42352941 0.49019608 0.61568627 0.47058824 0.53333333\n",
            "  0.51372549 0.69019608 0.43529412 0.         0.64313725 0.56078431 0.4627451  0.         0.         0.         0.        ]\n",
            " [0.         0.         0.         0.         0.         0.43529412 0.55294118 0.54901961 0.         0.58039216 0.58431373 0.47058824 0.44705882 0.48235294 0.5372549  0.48627451 0.5372549\n",
            "  0.51372549 0.67058824 0.52941176 0.         0.61568627 0.57647059 0.49019608 0.         0.         0.         0.        ]\n",
            " [0.         0.         0.         0.         0.         0.43529412 0.60392157 0.43529412 0.         0.60784314 0.58039216 0.4627451  0.45490196 0.48627451 0.56078431 0.48235294 0.51372549\n",
            "  0.50588235 0.65490196 0.60784314 0.         0.50588235 0.61568627 0.50588235 0.         0.         0.         0.        ]\n",
            " [0.         0.         0.         0.         0.         0.42745098 0.60784314 0.34117647 0.         0.61568627 0.56862745 0.46666667 0.45882353 0.49411765 0.60392157 0.49411765 0.50980392\n",
            "  0.48235294 0.63137255 0.62745098 0.         0.38039216 0.63921569 0.50980392 0.         0.         0.         0.        ]\n",
            " [0.         0.         0.         0.         0.         0.48627451 0.55686275 0.21176471 0.         0.58431373 0.55294118 0.46666667 0.46666667 0.48627451 0.53333333 0.50588235 0.49411765\n",
            "  0.47058824 0.6        0.68627451 0.         0.29803922 0.56862745 0.5372549  0.         0.         0.         0.        ]\n",
            " [0.         0.         0.         0.         0.         0.53333333 0.59215686 0.18431373 0.         0.58431373 0.5372549  0.46666667 0.4627451  0.49411765 0.56078431 0.51764706 0.50980392\n",
            "  0.48235294 0.6        0.6745098  0.         0.25882353 0.58039216 0.60392157 0.         0.         0.         0.        ]\n",
            " [0.         0.         0.         0.         0.         0.42745098 0.68235294 0.18823529 0.         0.60392157 0.54117647 0.46666667 0.45882353 0.48627451 0.54117647 0.50980392 0.50588235\n",
            "  0.49019608 0.62352941 0.65490196 0.         0.22745098 0.68235294 0.50196078 0.         0.         0.         0.        ]\n",
            " [0.         0.         0.         0.         0.         0.         0.         0.         0.         0.33333333 0.71372549 0.57647059 0.53333333 0.56078431 0.61960784 0.57254902 0.58039216\n",
            "  0.6        0.78039216 0.2745098  0.         0.         0.         0.         0.         0.         0.         0.        ]\n",
            " [0.         0.         0.         0.         0.         0.         0.         0.         0.         0.         0.10196078 0.21176471 0.28235294 0.3254902  0.37647059 0.33333333 0.31372549\n",
            "  0.23921569 0.05490196 0.         0.         0.         0.         0.         0.         0.         0.         0.        ]]\n"
          ],
          "name": "stdout"
        },
        {
          "output_type": "display_data",
          "data": {
            "image/png": "[encoded data removed]",
            "text/plain": [
              "<Figure size 432x288 with 1 Axes>"
            ]
          },
          "metadata": {
            "tags": [],
            "needs_background": "light"
          }
        }
      ]
    },
    {
      "cell_type": "markdown",
      "metadata": {
        "id": "nMlTLHULdNDO"
      },
      "source": [
        "Los valores ahora están entre 0 y 1, lo que los hace más fácil de procesar.\n",
        "\n",
        "## Creación del modelo.\n",
        "\n",
        "Keras tiene dos modelos, secuencial y modelo, a modelo se le especifica la capa de entrada, lo que procesará la capa de entrada y la capa de salida.\n",
        "\n",
        "En secuencial (sequential) se pasan como argumentos las capas que se quiere que procese este modelo en una lista.\n",
        "\n",
        "\n",
        "Se \"estira\" la matriz, layers tiene a flatten, que aplana la matriz y crea un vector.\n",
        "\n",
        "La capa densa tiene 128 neuronas y en la capa de salida 10 por que es el número de clases que se tienen.\n",
        "\n",
        "Función relu de activación: si es positivo lo deja como el mismo valor, pero si es negativo lo vuelve cero.\n",
        "\n",
        "La función softmax asocia las clases de probabilidad para cada clase.\n",
        "\n",
        "Tensorflow carga una red neuronal con 3 capas.\n",
        "\n",
        "La primer capa tiene 784 neuronas (datos que entran por cada pixel)\n",
        "\n",
        "La segunda capa tiene menos neuronas.\n",
        "\n",
        "La tercera tiene 10 por las clases de salida."
      ]
    },
    {
      "cell_type": "code",
      "metadata": {
        "id": "zilTmFaDdJEe"
      },
      "source": [
        "model = tf.keras.models.Sequential([\n",
        "                                    tf.keras.layers.Flatten(),\n",
        "                                    tf.keras.layers.Dense(128, activation=tf.nn.relu),\n",
        "                                    tf.keras.layers.Dense(10, activation=tf.nn.softmax)\n",
        "])"
      ],
      "execution_count": null,
      "outputs": []
    },
    {
      "cell_type": "markdown",
      "metadata": {
        "id": "nQWK4dIBgD2X"
      },
      "source": [
        "## Compilando el modelo\n",
        "\n",
        "Tensorflow está programado a bajo nivel.\n",
        "\n",
        "La red neuronal se puede ver como grafo.\n",
        "\n",
        "Se compila porque se deben asignar los espacios de memoria y crear la red en bajo nivel.\n",
        "\n",
        "Optimizador: elemento que acerca hacia el mínimo. El optimizador Adam converge más rápido, es adaptativo.\n",
        "\n",
        "Función de pérdida: tiene que ver en cómo se calcula el error\n",
        "\n",
        "Métrica: funciones que comparan dos puntos, ayudan a calcular errores.\n",
        "\n"
      ]
    },
    {
      "cell_type": "code",
      "metadata": {
        "id": "0NULeWR7f0Nw"
      },
      "source": [
        "model.compile(\n",
        "    optimizer = tf.optimizers.Adam(),\n",
        "    loss = 'sparse_categorical_crossentropy',\n",
        "    metrics = ['accuracy']\n",
        ")"
      ],
      "execution_count": null,
      "outputs": []
    },
    {
      "cell_type": "markdown",
      "metadata": {
        "id": "i8nMx0_cjPjm"
      },
      "source": [
        "## Entrenamiento del modelo\n",
        "\n",
        "Datos de entrenamiento, etiquetas de entrenamiento, número de veces que va a iterar."
      ]
    },
    {
      "cell_type": "code",
      "metadata": {
        "colab": {
          "base_uri": "https://localhost:8080/"
        },
        "id": "q5P2tATvhiCT",
        "outputId": "01e498d1-48a0-45c0-839d-61f620bc6c8e"
      },
      "source": [
        "model.fit(training_images, training_labels, epochs = 5)"
      ],
      "execution_count": null,
      "outputs": [
        {
          "output_type": "stream",
          "text": [
            "Epoch 1/5\n",
            "1875/1875 [==============================] - 4s 2ms/step - loss: 0.4929 - accuracy: 0.8272\n",
            "Epoch 2/5\n",
            "1875/1875 [==============================] - 4s 2ms/step - loss: 0.3773 - accuracy: 0.8636\n",
            "Epoch 3/5\n",
            "1875/1875 [==============================] - 4s 2ms/step - loss: 0.3367 - accuracy: 0.8765\n",
            "Epoch 4/5\n",
            "1875/1875 [==============================] - 4s 2ms/step - loss: 0.3142 - accuracy: 0.8853\n",
            "Epoch 5/5\n",
            "1875/1875 [==============================] - 4s 2ms/step - loss: 0.2961 - accuracy: 0.8911\n"
          ],
          "name": "stdout"
        },
        {
          "output_type": "execute_result",
          "data": {
            "text/plain": [
              "<tensorflow.python.keras.callbacks.History at 0x7f61f2b93250>"
            ]
          },
          "metadata": {
            "tags": []
          },
          "execution_count": 12
        }
      ]
    },
    {
      "cell_type": "markdown",
      "metadata": {
        "id": "-TUo4fe3iMg3"
      },
      "source": [
        "## Evaluación del modelo.\n",
        "\n",
        "Evalua con datos de prueba, regresa un porcentaje general de precisión sobre datos de prueba."
      ]
    },
    {
      "cell_type": "code",
      "metadata": {
        "colab": {
          "base_uri": "https://localhost:8080/"
        },
        "id": "caCYn6rIiGDm",
        "outputId": "4b7f69fe-d010-499f-dc2a-d32c1bfd38e8"
      },
      "source": [
        "model.evaluate(test_images, test_labels)"
      ],
      "execution_count": null,
      "outputs": [
        {
          "output_type": "stream",
          "text": [
            "313/313 [==============================] - 1s 1ms/step - loss: 0.3594 - accuracy: 0.8676\n"
          ],
          "name": "stdout"
        },
        {
          "output_type": "execute_result",
          "data": {
            "text/plain": [
              "[0.3593989610671997, 0.8676000237464905]"
            ]
          },
          "metadata": {
            "tags": []
          },
          "execution_count": 13
        }
      ]
    },
    {
      "cell_type": "markdown",
      "metadata": {
        "id": "9aS-HoLekByd"
      },
      "source": [
        "En los datos de prueba puede identificar correctamente en un 86%, el cual puede mejorar aumentando el número de iteraciones.\n",
        "\n",
        "## Predicción\n",
        "\n",
        "Los índices van de 0 a 10000 -1\n",
        "\n",
        "Se imprime la etiqueta real y se predice la etiqueta para esa imagen de prueba."
      ]
    },
    {
      "cell_type": "code",
      "metadata": {
        "colab": {
          "base_uri": "https://localhost:8080/",
          "height": 282
        },
        "id": "TETHnRxAjkpm",
        "outputId": "15fd0bc7-8752-4fe9-8fd3-ff2e03c5876b"
      },
      "source": [
        "test_index = 5\n",
        "\n",
        "plt.imshow(test_images[test_index], cmap = 'gray')\n",
        "plt.axis(False)\n",
        "\n",
        "print(\"Label: \", test_labels[test_index])\n",
        "input_image = np.reshape(test_images[test_index], (1, 784)) \n",
        "#Se convierte a 784 por que cada pixel es de 28*28\n",
        "prediction = model.predict(np.expand_dims(input_image, axis = 1))\n",
        "print(\"Prediction: \", np.argmax(prediction))\n"
      ],
      "execution_count": null,
      "outputs": [
        {
          "output_type": "stream",
          "text": [
            "Label:  1\n",
            "Prediction:  1\n"
          ],
          "name": "stdout"
        },
        {
          "output_type": "display_data",
          "data": {
            "image/png": "[encoded data removed]",
            "text/plain": [
              "<Figure size 432x288 with 1 Axes>"
            ]
          },
          "metadata": {
            "tags": [],
            "needs_background": "light"
          }
        }
      ]
    },
    {
      "cell_type": "markdown",
      "metadata": {
        "id": "PkBDy6D9l0BL"
      },
      "source": [
        "1,784 es un vector columna,"
      ]
    },
    {
      "cell_type": "code",
      "metadata": {
        "colab": {
          "base_uri": "https://localhost:8080/"
        },
        "id": "qQ_xJJn6lRU2",
        "outputId": "b9685583-e58a-454b-b22e-dd1ff148540d"
      },
      "source": [
        "input_image.shape"
      ],
      "execution_count": null,
      "outputs": [
        {
          "output_type": "execute_result",
          "data": {
            "text/plain": [
              "(1, 784)"
            ]
          },
          "metadata": {
            "tags": []
          },
          "execution_count": 19
        }
      ]
    },
    {
      "cell_type": "code",
      "metadata": {
        "colab": {
          "base_uri": "https://localhost:8080/",
          "height": 282
        },
        "id": "Recw_veJlUDK",
        "outputId": "2140a0cf-97bb-406b-b6db-67665134c6ec"
      },
      "source": [
        "test_index = 100\n",
        "\n",
        "plt.imshow(test_images[test_index], cmap = 'gray')\n",
        "plt.axis(False)\n",
        "\n",
        "print(\"Label: \", test_labels[test_index])\n",
        "input_image = np.reshape(test_images[test_index], (1, 784)) \n",
        "#Se convierte a 784 por que cada pixel es de 28*28\n",
        "prediction = model.predict(np.expand_dims(input_image, axis = 1))\n",
        "print(\"Prediction: \", np.argmax(prediction))\n"
      ],
      "execution_count": null,
      "outputs": [
        {
          "output_type": "stream",
          "text": [
            "Label:  3\n",
            "Prediction:  3\n"
          ],
          "name": "stdout"
        },
        {
          "output_type": "display_data",
          "data": {
            "image/png": "[encoded data removed]",
            "text/plain": [
              "<Figure size 432x288 with 1 Axes>"
            ]
          },
          "metadata": {
            "tags": [],
            "needs_background": "light"
          }
        }
      ]
    },
    {
      "cell_type": "code",
      "metadata": {
        "colab": {
          "base_uri": "https://localhost:8080/"
        },
        "id": "UnLQUE8BmVqP",
        "outputId": "c22f2643-d3ed-4a1f-a05f-c8c8e4154bd9"
      },
      "source": [
        "prediction"
      ],
      "execution_count": null,
      "outputs": [
        {
          "output_type": "execute_result",
          "data": {
            "text/plain": [
              "array([[1.5863540e-03, 1.4261074e-05, 9.8739729e-05, 9.9595815e-01, 6.5086948e-05, 5.0090279e-07, 2.2568847e-03, 1.7465152e-07, 1.9865018e-05, 1.0754859e-07]], dtype=float32)"
            ]
          },
          "metadata": {
            "tags": []
          },
          "execution_count": 26
        }
      ]
    },
    {
      "cell_type": "markdown",
      "metadata": {
        "id": "4y406ZUnm0ZO"
      },
      "source": [
        "Da un vector de salida del tamaño de las clases (10), y asocia una probabilidad a cada clase."
      ]
    },
    {
      "cell_type": "code",
      "metadata": {
        "colab": {
          "base_uri": "https://localhost:8080/"
        },
        "id": "qvSN2kTptcik",
        "outputId": "42781bbd-8e51-472d-cfcf-2ff28930f998"
      },
      "source": [
        "prediction[0].max()"
      ],
      "execution_count": null,
      "outputs": [
        {
          "output_type": "execute_result",
          "data": {
            "text/plain": [
              "0.99595815"
            ]
          },
          "metadata": {
            "tags": []
          },
          "execution_count": 49
        }
      ]
    },
    {
      "cell_type": "code",
      "metadata": {
        "colab": {
          "base_uri": "https://localhost:8080/"
        },
        "id": "ID5gJRWRmx8D",
        "outputId": "3e1777f8-fd58-45a1-cf1b-7548c871636f"
      },
      "source": [
        "prediction[0][3]"
      ],
      "execution_count": null,
      "outputs": [
        {
          "output_type": "execute_result",
          "data": {
            "text/plain": [
              "0.99595815"
            ]
          },
          "metadata": {
            "tags": []
          },
          "execution_count": 33
        }
      ]
    },
    {
      "cell_type": "markdown",
      "metadata": {
        "id": "DjY8JXlPtf-v"
      },
      "source": [
        "El valor máximo de probabilidad que asignó es 99.5% y corresponde a la tercer clase/etiqueta (elemento en la tercer posición).\n",
        "\n",
        "Añadiendo una nuevas capas:"
      ]
    },
    {
      "cell_type": "code",
      "metadata": {
        "id": "aR3jWa-Ooli9"
      },
      "source": [
        "model = tf.keras.models.Sequential([\n",
        "                                    tf.keras.layers.Flatten(),\n",
        "                                    tf.keras.layers.Dense(256, activation=tf.nn.relu),\n",
        "                                    tf.keras.layers.Dense(128, activation=tf.nn.relu),\n",
        "                                    tf.keras.layers.Dense(64, activation=tf.nn.relu),\n",
        "                                    tf.keras.layers.Dense(10, activation=tf.nn.softmax)\n",
        "])"
      ],
      "execution_count": null,
      "outputs": []
    },
    {
      "cell_type": "code",
      "metadata": {
        "id": "l-sbiLSrwbfD"
      },
      "source": [
        "model.compile(\n",
        "    optimizer = tf.optimizers.Adam(),\n",
        "    loss = 'sparse_categorical_crossentropy',\n",
        "    metrics = ['accuracy']\n",
        ")"
      ],
      "execution_count": null,
      "outputs": []
    },
    {
      "cell_type": "code",
      "metadata": {
        "colab": {
          "base_uri": "https://localhost:8080/"
        },
        "id": "KgmTINztwvny",
        "outputId": "09116110-d6d8-4338-b6c0-63e4e5ad7ae0"
      },
      "source": [
        "model.fit(training_images, training_labels, epochs = 15)"
      ],
      "execution_count": null,
      "outputs": [
        {
          "output_type": "stream",
          "text": [
            "Epoch 1/15\n",
            "1875/1875 [==============================] - 7s 3ms/step - loss: 0.4839 - accuracy: 0.8252\n",
            "Epoch 2/15\n",
            "1875/1875 [==============================] - 7s 3ms/step - loss: 0.3629 - accuracy: 0.8680\n",
            "Epoch 3/15\n",
            "1875/1875 [==============================] - 7s 4ms/step - loss: 0.3306 - accuracy: 0.8782\n",
            "Epoch 4/15\n",
            "1875/1875 [==============================] - 7s 4ms/step - loss: 0.3073 - accuracy: 0.8860\n",
            "Epoch 5/15\n",
            "1875/1875 [==============================] - 7s 4ms/step - loss: 0.2895 - accuracy: 0.8927\n",
            "Epoch 6/15\n",
            "1875/1875 [==============================] - 7s 4ms/step - loss: 0.2762 - accuracy: 0.8965\n",
            "Epoch 7/15\n",
            "1875/1875 [==============================] - 7s 4ms/step - loss: 0.2633 - accuracy: 0.9006\n",
            "Epoch 8/15\n",
            "1875/1875 [==============================] - 7s 4ms/step - loss: 0.2518 - accuracy: 0.9050\n",
            "Epoch 9/15\n",
            "1875/1875 [==============================] - 7s 4ms/step - loss: 0.2440 - accuracy: 0.9080\n",
            "Epoch 10/15\n",
            "1875/1875 [==============================] - 7s 4ms/step - loss: 0.2337 - accuracy: 0.9118\n",
            "Epoch 11/15\n",
            "1875/1875 [==============================] - 7s 4ms/step - loss: 0.2273 - accuracy: 0.9133\n",
            "Epoch 12/15\n",
            "1875/1875 [==============================] - 7s 4ms/step - loss: 0.2200 - accuracy: 0.9164\n",
            "Epoch 13/15\n",
            "1875/1875 [==============================] - 7s 4ms/step - loss: 0.2107 - accuracy: 0.9192\n",
            "Epoch 14/15\n",
            "1875/1875 [==============================] - 7s 4ms/step - loss: 0.2073 - accuracy: 0.9211\n",
            "Epoch 15/15\n",
            "1875/1875 [==============================] - 7s 4ms/step - loss: 0.1985 - accuracy: 0.9240\n"
          ],
          "name": "stdout"
        },
        {
          "output_type": "execute_result",
          "data": {
            "text/plain": [
              "<tensorflow.python.keras.callbacks.History at 0x7f556fbf8ed0>"
            ]
          },
          "metadata": {
            "tags": []
          },
          "execution_count": 11
        }
      ]
    },
    {
      "cell_type": "markdown",
      "metadata": {
        "id": "MfB4j51jYKjy"
      },
      "source": [
        "Evaluando el modelo nuevo"
      ]
    },
    {
      "cell_type": "code",
      "metadata": {
        "colab": {
          "base_uri": "https://localhost:8080/"
        },
        "id": "G3g7p5Ywwxqm",
        "outputId": "6ada4c3d-b74c-49a3-b5a4-5393ad52da87"
      },
      "source": [
        "model.evaluate(test_images, test_labels)"
      ],
      "execution_count": null,
      "outputs": [
        {
          "output_type": "stream",
          "text": [
            "313/313 [==============================] - 1s 2ms/step - loss: 0.3414 - accuracy: 0.8861\n"
          ],
          "name": "stdout"
        },
        {
          "output_type": "execute_result",
          "data": {
            "text/plain": [
              "[0.3413739800453186, 0.8860999941825867]"
            ]
          },
          "metadata": {
            "tags": []
          },
          "execution_count": 12
        }
      ]
    },
    {
      "cell_type": "markdown",
      "metadata": {
        "id": "0q9T4QCBYWDK"
      },
      "source": [
        "Predicción"
      ]
    },
    {
      "cell_type": "code",
      "metadata": {
        "colab": {
          "base_uri": "https://localhost:8080/",
          "height": 282
        },
        "id": "Z-y9WnqjX1kp",
        "outputId": "d6a0ded3-37ba-483d-bb3d-6dc420029191"
      },
      "source": [
        "test_index = 1000\n",
        "\n",
        "plt.imshow(test_images[test_index], cmap = 'gray')\n",
        "plt.axis(False)\n",
        "\n",
        "print(\"Label: \", test_labels[test_index])\n",
        "input_image = np.reshape(test_images[test_index], (1, 784)) \n",
        "#Se convierte a 784 por que cada pixel es de 28*28\n",
        "prediction = model.predict(np.expand_dims(input_image, axis = 1))\n",
        "print(\"Prediction: \", np.argmax(prediction))\n"
      ],
      "execution_count": null,
      "outputs": [
        {
          "output_type": "stream",
          "text": [
            "Label:  0\n",
            "Prediction:  6\n"
          ],
          "name": "stdout"
        },
        {
          "output_type": "display_data",
          "data": {
            "image/png": "[encoded data removed]",
            "text/plain": [
              "<Figure size 432x288 with 1 Axes>"
            ]
          },
          "metadata": {
            "tags": [],
            "needs_background": "light"
          }
        }
      ]
    },
    {
      "cell_type": "markdown",
      "metadata": {
        "id": "4BBXctpHYxWl"
      },
      "source": [
        "Aún hace una mala predicción a pesar de haber agregado nuevas capas.\n",
        "\n",
        "Con índices aleatorios:"
      ]
    },
    {
      "cell_type": "code",
      "metadata": {
        "colab": {
          "base_uri": "https://localhost:8080/",
          "height": 282
        },
        "id": "w9GiVn6jYvSW",
        "outputId": "5a9ac25b-0913-40c2-bdcc-ab588dedff9b"
      },
      "source": [
        "import random\n",
        "\n",
        "test_index = random.randint(0, 10000-1)\n",
        "\n",
        "plt.imshow(test_images[test_index], cmap = 'gray')\n",
        "plt.axis(False)\n",
        "\n",
        "print(\"Label: \", test_labels[test_index])\n",
        "input_image = np.reshape(test_images[test_index], (1, 784)) \n",
        "#Se convierte a 784 por que cada pixel es de 28*28\n",
        "prediction = model.predict(np.expand_dims(input_image, axis = 1))\n",
        "print(\"Prediction: \", np.argmax(prediction))\n"
      ],
      "execution_count": null,
      "outputs": [
        {
          "output_type": "stream",
          "text": [
            "Label:  8\n",
            "Prediction:  8\n"
          ],
          "name": "stdout"
        },
        {
          "output_type": "display_data",
          "data": {
            "image/png": "[encoded data removed]",
            "text/plain": [
              "<Figure size 432x288 with 1 Axes>"
            ]
          },
          "metadata": {
            "tags": [],
            "needs_background": "light"
          }
        }
      ]
    },
    {
      "cell_type": "code",
      "metadata": {
        "id": "A2RRnt5vZRVb"
      },
      "source": [
        ""
      ],
      "execution_count": null,
      "outputs": []
    }
  ]
}